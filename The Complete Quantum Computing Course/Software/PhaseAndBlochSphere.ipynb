{
 "cells": [
  {
   "cell_type": "code",
   "execution_count": 1,
   "metadata": {},
   "outputs": [
    {
     "data": {
      "text/plain": [
       "[AerSimulator('aer_simulator'),\n",
       " AerSimulator('aer_simulator_statevector'),\n",
       " AerSimulator('aer_simulator_density_matrix'),\n",
       " AerSimulator('aer_simulator_stabilizer'),\n",
       " AerSimulator('aer_simulator_matrix_product_state'),\n",
       " AerSimulator('aer_simulator_extended_stabilizer'),\n",
       " AerSimulator('aer_simulator_unitary'),\n",
       " AerSimulator('aer_simulator_superop'),\n",
       " QasmSimulator('qasm_simulator'),\n",
       " StatevectorSimulator('statevector_simulator'),\n",
       " UnitarySimulator('unitary_simulator'),\n",
       " PulseSimulator('pulse_simulator')]"
      ]
     },
     "execution_count": 1,
     "metadata": {},
     "output_type": "execute_result"
    }
   ],
   "source": [
    " #Phase and Bloch Sphere\n",
    "from qiskit import * \n",
    "from qiskit.tools.visualization import plot_bloch_multivector\n",
    "from qiskit.visualization import plot_histogram\n",
    "%matplotlib inline\n",
    "import math\n",
    "\n",
    "Aer.backends()\n"
   ]
  },
  {
   "cell_type": "code",
   "execution_count": 2,
   "metadata": {},
   "outputs": [],
   "source": [
    "qasm_simulator = Aer.get_backend('qasm_simulator')\n",
    "statevector_simulator = Aer.get_backend('statevector_simulator')"
   ]
  },
  {
   "cell_type": "code",
   "execution_count": 3,
   "metadata": {},
   "outputs": [],
   "source": [
    "def run_on_simulators(circuit):\n",
    "    statevec_job = execute(circuit, backend=statevector_simulator)\n",
    "    result = statevec_job.result()\n",
    "    statevec = result.get_statevector()\n",
    "\n",
    "    num_qubits = circuit.num_qubits\n",
    "\n",
    "    circuit.measure([i for i in range(num_qubits)], [i for i in range(num_qubits)])\n",
    "\n",
    "    qasm_job = execute(circuit, backend=qasm_simulator, shots=1024).result()\n",
    "    counts = qasm_job.get_counts()\n",
    "\n",
    "    return statevec, counts"
   ]
  },
  {
   "cell_type": "code",
   "execution_count": 5,
   "metadata": {},
   "outputs": [
    {
     "ename": "TypeError",
     "evalue": "'type' object is not subscriptable",
     "output_type": "error",
     "traceback": [
      "\u001b[1;31m---------------------------------------------------------------------------\u001b[0m",
      "\u001b[1;31mTypeError\u001b[0m                                 Traceback (most recent call last)",
      "Cell \u001b[1;32mIn[5], line 2\u001b[0m\n\u001b[0;32m      1\u001b[0m circuit \u001b[39m=\u001b[39m QuantumCircuit(\u001b[39m2\u001b[39m,\u001b[39m2\u001b[39m)\n\u001b[1;32m----> 2\u001b[0m statevec, counts \u001b[39m=\u001b[39m run_on_simulators(circuit)\n",
      "Cell \u001b[1;32mIn[3], line 8\u001b[0m, in \u001b[0;36mrun_on_simulators\u001b[1;34m(circuit)\u001b[0m\n\u001b[0;32m      4\u001b[0m statevec \u001b[39m=\u001b[39m result\u001b[39m.\u001b[39mget_statevector()\n\u001b[0;32m      6\u001b[0m num_qubits \u001b[39m=\u001b[39m circuit\u001b[39m.\u001b[39mnum_qubits\n\u001b[1;32m----> 8\u001b[0m circuit\u001b[39m.\u001b[39mmeasure([i \u001b[39mfor\u001b[39;00m i \u001b[39min\u001b[39;00m \u001b[39mrange\u001b[39m(num_qubits)], [i \u001b[39mfor\u001b[39;00m i \u001b[39min\u001b[39;00m \u001b[39mrange\u001b[39;49m[num_qubits]])\n\u001b[0;32m     10\u001b[0m qasm_job \u001b[39m=\u001b[39m execute(circuit, backend\u001b[39m=\u001b[39mqasm_simulator, shots\u001b[39m=\u001b[39m\u001b[39m1024\u001b[39m)\u001b[39m.\u001b[39mresult()\n\u001b[0;32m     11\u001b[0m counts \u001b[39m=\u001b[39m qasm_job\u001b[39m.\u001b[39mget_counts()\n",
      "\u001b[1;31mTypeError\u001b[0m: 'type' object is not subscriptable"
     ]
    }
   ],
   "source": [
    "circuit = QuantumCircuit(2,2)\n",
    "statevec, counts = run_on_simulators(circuit)"
   ]
  },
  {
   "cell_type": "code",
   "execution_count": null,
   "metadata": {},
   "outputs": [],
   "source": [
    "plot_bloch_multivector(statevec)"
   ]
  }
 ],
 "metadata": {
  "kernelspec": {
   "display_name": "Python 3",
   "language": "python",
   "name": "python3"
  },
  "language_info": {
   "codemirror_mode": {
    "name": "ipython",
    "version": 3
   },
   "file_extension": ".py",
   "mimetype": "text/x-python",
   "name": "python",
   "nbconvert_exporter": "python",
   "pygments_lexer": "ipython3",
   "version": "3.10.7"
  },
  "orig_nbformat": 4
 },
 "nbformat": 4,
 "nbformat_minor": 2
}
